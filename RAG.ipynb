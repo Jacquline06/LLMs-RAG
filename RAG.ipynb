{
 "cells": [
  {
   "cell_type": "code",
   "execution_count": 13,
   "metadata": {},
   "outputs": [
    {
     "name": "stdout",
     "output_type": "stream",
     "text": [
      "Requirement already satisfied: llama_index==0.10.19 in /Users/samjosephbritto/LLMs RAG/.venv/lib/python3.9/site-packages (0.10.19)\n",
      "Requirement already satisfied: llama_index_core==0.10.19 in /Users/samjosephbritto/LLMs RAG/.venv/lib/python3.9/site-packages (0.10.19)\n",
      "Requirement already satisfied: torch in /Users/samjosephbritto/LLMs RAG/.venv/lib/python3.9/site-packages (2.5.1)\n",
      "Requirement already satisfied: llama-index-embeddings-huggingface in /Users/samjosephbritto/LLMs RAG/.venv/lib/python3.9/site-packages (0.2.3)\n",
      "Requirement already satisfied: peft in /Users/samjosephbritto/LLMs RAG/.venv/lib/python3.9/site-packages (0.13.2)\n",
      "Requirement already satisfied: optimum in /Users/samjosephbritto/LLMs RAG/.venv/lib/python3.9/site-packages (1.23.3)\n",
      "Requirement already satisfied: bitsandbytes in /Users/samjosephbritto/LLMs RAG/.venv/lib/python3.9/site-packages (0.42.0)\n",
      "Requirement already satisfied: llama-index-agent-openai<0.2.0,>=0.1.4 in /Users/samjosephbritto/LLMs RAG/.venv/lib/python3.9/site-packages (from llama_index==0.10.19) (0.1.7)\n",
      "Requirement already satisfied: llama-index-cli<0.2.0,>=0.1.2 in /Users/samjosephbritto/LLMs RAG/.venv/lib/python3.9/site-packages (from llama_index==0.10.19) (0.1.13)\n",
      "Requirement already satisfied: llama-index-embeddings-openai<0.2.0,>=0.1.5 in /Users/samjosephbritto/LLMs RAG/.venv/lib/python3.9/site-packages (from llama_index==0.10.19) (0.1.11)\n",
      "Requirement already satisfied: llama-index-indices-managed-llama-cloud<0.2.0,>=0.1.2 in /Users/samjosephbritto/LLMs RAG/.venv/lib/python3.9/site-packages (from llama_index==0.10.19) (0.1.6)\n",
      "Requirement already satisfied: llama-index-legacy<0.10.0,>=0.9.48 in /Users/samjosephbritto/LLMs RAG/.venv/lib/python3.9/site-packages (from llama_index==0.10.19) (0.9.48.post4)\n",
      "Requirement already satisfied: llama-index-llms-openai<0.2.0,>=0.1.5 in /Users/samjosephbritto/LLMs RAG/.venv/lib/python3.9/site-packages (from llama_index==0.10.19) (0.1.11)\n",
      "Requirement already satisfied: llama-index-multi-modal-llms-openai<0.2.0,>=0.1.3 in /Users/samjosephbritto/LLMs RAG/.venv/lib/python3.9/site-packages (from llama_index==0.10.19) (0.1.9)\n",
      "Requirement already satisfied: llama-index-program-openai<0.2.0,>=0.1.3 in /Users/samjosephbritto/LLMs RAG/.venv/lib/python3.9/site-packages (from llama_index==0.10.19) (0.1.6)\n",
      "Requirement already satisfied: llama-index-question-gen-openai<0.2.0,>=0.1.2 in /Users/samjosephbritto/LLMs RAG/.venv/lib/python3.9/site-packages (from llama_index==0.10.19) (0.1.3)\n",
      "Requirement already satisfied: llama-index-readers-file<0.2.0,>=0.1.4 in /Users/samjosephbritto/LLMs RAG/.venv/lib/python3.9/site-packages (from llama_index==0.10.19) (0.1.22)\n",
      "Requirement already satisfied: llama-index-readers-llama-parse<0.2.0,>=0.1.2 in /Users/samjosephbritto/LLMs RAG/.venv/lib/python3.9/site-packages (from llama_index==0.10.19) (0.1.6)\n",
      "Requirement already satisfied: PyYAML>=6.0.1 in /Users/samjosephbritto/LLMs RAG/.venv/lib/python3.9/site-packages (from llama_index_core==0.10.19) (6.0.2)\n",
      "Requirement already satisfied: SQLAlchemy>=1.4.49 in /Users/samjosephbritto/LLMs RAG/.venv/lib/python3.9/site-packages (from SQLAlchemy[asyncio]>=1.4.49->llama_index_core==0.10.19) (2.0.36)\n",
      "Requirement already satisfied: aiohttp<4.0.0,>=3.8.6 in /Users/samjosephbritto/LLMs RAG/.venv/lib/python3.9/site-packages (from llama_index_core==0.10.19) (3.11.7)\n",
      "Requirement already satisfied: dataclasses-json in /Users/samjosephbritto/LLMs RAG/.venv/lib/python3.9/site-packages (from llama_index_core==0.10.19) (0.6.7)\n",
      "Requirement already satisfied: deprecated>=1.2.9.3 in /Users/samjosephbritto/LLMs RAG/.venv/lib/python3.9/site-packages (from llama_index_core==0.10.19) (1.2.15)\n",
      "Requirement already satisfied: dirtyjson<2.0.0,>=1.0.8 in /Users/samjosephbritto/LLMs RAG/.venv/lib/python3.9/site-packages (from llama_index_core==0.10.19) (1.0.8)\n",
      "Requirement already satisfied: fsspec>=2023.5.0 in /Users/samjosephbritto/LLMs RAG/.venv/lib/python3.9/site-packages (from llama_index_core==0.10.19) (2024.9.0)\n",
      "Requirement already satisfied: httpx in /Users/samjosephbritto/LLMs RAG/.venv/lib/python3.9/site-packages (from llama_index_core==0.10.19) (0.27.2)\n",
      "Requirement already satisfied: llamaindex-py-client<0.2.0,>=0.1.13 in /Users/samjosephbritto/LLMs RAG/.venv/lib/python3.9/site-packages (from llama_index_core==0.10.19) (0.1.19)\n",
      "Requirement already satisfied: nest-asyncio<2.0.0,>=1.5.8 in /Users/samjosephbritto/LLMs RAG/.venv/lib/python3.9/site-packages (from llama_index_core==0.10.19) (1.6.0)\n",
      "Requirement already satisfied: networkx>=3.0 in /Users/samjosephbritto/LLMs RAG/.venv/lib/python3.9/site-packages (from llama_index_core==0.10.19) (3.2.1)\n",
      "Requirement already satisfied: nltk<4.0.0,>=3.8.1 in /Users/samjosephbritto/LLMs RAG/.venv/lib/python3.9/site-packages (from llama_index_core==0.10.19) (3.9.1)\n",
      "Requirement already satisfied: numpy in /Users/samjosephbritto/LLMs RAG/.venv/lib/python3.9/site-packages (from llama_index_core==0.10.19) (2.0.2)\n",
      "Requirement already satisfied: openai>=1.1.0 in /Users/samjosephbritto/LLMs RAG/.venv/lib/python3.9/site-packages (from llama_index_core==0.10.19) (1.55.0)\n",
      "Requirement already satisfied: pandas in /Users/samjosephbritto/LLMs RAG/.venv/lib/python3.9/site-packages (from llama_index_core==0.10.19) (2.2.3)\n",
      "Requirement already satisfied: pillow>=9.0.0 in /Users/samjosephbritto/LLMs RAG/.venv/lib/python3.9/site-packages (from llama_index_core==0.10.19) (11.0.0)\n",
      "Requirement already satisfied: requests>=2.31.0 in /Users/samjosephbritto/LLMs RAG/.venv/lib/python3.9/site-packages (from llama_index_core==0.10.19) (2.32.3)\n",
      "Requirement already satisfied: tenacity<9.0.0,>=8.2.0 in /Users/samjosephbritto/LLMs RAG/.venv/lib/python3.9/site-packages (from llama_index_core==0.10.19) (8.5.0)\n",
      "Requirement already satisfied: tiktoken>=0.3.3 in /Users/samjosephbritto/LLMs RAG/.venv/lib/python3.9/site-packages (from llama_index_core==0.10.19) (0.8.0)\n",
      "Requirement already satisfied: tqdm<5.0.0,>=4.66.1 in /Users/samjosephbritto/LLMs RAG/.venv/lib/python3.9/site-packages (from llama_index_core==0.10.19) (4.67.0)\n",
      "Requirement already satisfied: typing-extensions>=4.5.0 in /Users/samjosephbritto/LLMs RAG/.venv/lib/python3.9/site-packages (from llama_index_core==0.10.19) (4.12.2)\n",
      "Requirement already satisfied: typing-inspect>=0.8.0 in /Users/samjosephbritto/LLMs RAG/.venv/lib/python3.9/site-packages (from llama_index_core==0.10.19) (0.9.0)\n",
      "Requirement already satisfied: filelock in /Users/samjosephbritto/LLMs RAG/.venv/lib/python3.9/site-packages (from torch) (3.16.1)\n",
      "Requirement already satisfied: jinja2 in /Users/samjosephbritto/LLMs RAG/.venv/lib/python3.9/site-packages (from torch) (3.1.4)\n",
      "Requirement already satisfied: sympy==1.13.1 in /Users/samjosephbritto/LLMs RAG/.venv/lib/python3.9/site-packages (from torch) (1.13.1)\n",
      "Requirement already satisfied: mpmath<1.4,>=1.1.0 in /Users/samjosephbritto/LLMs RAG/.venv/lib/python3.9/site-packages (from sympy==1.13.1->torch) (1.3.0)\n",
      "Requirement already satisfied: huggingface-hub>=0.19.0 in /Users/samjosephbritto/LLMs RAG/.venv/lib/python3.9/site-packages (from huggingface-hub[inference]>=0.19.0->llama-index-embeddings-huggingface) (0.26.2)\n",
      "Requirement already satisfied: sentence-transformers>=2.6.1 in /Users/samjosephbritto/LLMs RAG/.venv/lib/python3.9/site-packages (from llama-index-embeddings-huggingface) (3.3.1)\n",
      "Requirement already satisfied: packaging>=20.0 in /Users/samjosephbritto/LLMs RAG/.venv/lib/python3.9/site-packages (from peft) (24.2)\n",
      "Requirement already satisfied: psutil in /Users/samjosephbritto/LLMs RAG/.venv/lib/python3.9/site-packages (from peft) (6.1.0)\n",
      "Requirement already satisfied: transformers in /Users/samjosephbritto/LLMs RAG/.venv/lib/python3.9/site-packages (from peft) (4.46.3)\n",
      "Requirement already satisfied: accelerate>=0.21.0 in /Users/samjosephbritto/LLMs RAG/.venv/lib/python3.9/site-packages (from peft) (1.1.1)\n",
      "Requirement already satisfied: safetensors in /Users/samjosephbritto/LLMs RAG/.venv/lib/python3.9/site-packages (from peft) (0.4.5)\n",
      "Requirement already satisfied: coloredlogs in /Users/samjosephbritto/LLMs RAG/.venv/lib/python3.9/site-packages (from optimum) (15.0.1)\n",
      "Requirement already satisfied: datasets in /Users/samjosephbritto/LLMs RAG/.venv/lib/python3.9/site-packages (from optimum) (3.1.0)\n",
      "Requirement already satisfied: scipy in /Users/samjosephbritto/LLMs RAG/.venv/lib/python3.9/site-packages (from bitsandbytes) (1.13.1)\n",
      "Requirement already satisfied: aiohappyeyeballs>=2.3.0 in /Users/samjosephbritto/LLMs RAG/.venv/lib/python3.9/site-packages (from aiohttp<4.0.0,>=3.8.6->llama_index_core==0.10.19) (2.4.3)\n",
      "Requirement already satisfied: aiosignal>=1.1.2 in /Users/samjosephbritto/LLMs RAG/.venv/lib/python3.9/site-packages (from aiohttp<4.0.0,>=3.8.6->llama_index_core==0.10.19) (1.3.1)\n",
      "Requirement already satisfied: async-timeout<6.0,>=4.0 in /Users/samjosephbritto/LLMs RAG/.venv/lib/python3.9/site-packages (from aiohttp<4.0.0,>=3.8.6->llama_index_core==0.10.19) (5.0.1)\n",
      "Requirement already satisfied: attrs>=17.3.0 in /Users/samjosephbritto/LLMs RAG/.venv/lib/python3.9/site-packages (from aiohttp<4.0.0,>=3.8.6->llama_index_core==0.10.19) (24.2.0)\n",
      "Requirement already satisfied: frozenlist>=1.1.1 in /Users/samjosephbritto/LLMs RAG/.venv/lib/python3.9/site-packages (from aiohttp<4.0.0,>=3.8.6->llama_index_core==0.10.19) (1.5.0)\n",
      "Requirement already satisfied: multidict<7.0,>=4.5 in /Users/samjosephbritto/LLMs RAG/.venv/lib/python3.9/site-packages (from aiohttp<4.0.0,>=3.8.6->llama_index_core==0.10.19) (6.1.0)\n",
      "Requirement already satisfied: propcache>=0.2.0 in /Users/samjosephbritto/LLMs RAG/.venv/lib/python3.9/site-packages (from aiohttp<4.0.0,>=3.8.6->llama_index_core==0.10.19) (0.2.0)\n",
      "Requirement already satisfied: yarl<2.0,>=1.17.0 in /Users/samjosephbritto/LLMs RAG/.venv/lib/python3.9/site-packages (from aiohttp<4.0.0,>=3.8.6->llama_index_core==0.10.19) (1.18.0)\n",
      "Requirement already satisfied: wrapt<2,>=1.10 in /Users/samjosephbritto/LLMs RAG/.venv/lib/python3.9/site-packages (from deprecated>=1.2.9.3->llama_index_core==0.10.19) (1.17.0)\n",
      "Requirement already satisfied: beautifulsoup4<5.0.0,>=4.12.3 in /Users/samjosephbritto/LLMs RAG/.venv/lib/python3.9/site-packages (from llama-index-readers-file<0.2.0,>=0.1.4->llama_index==0.10.19) (4.12.3)\n",
      "Requirement already satisfied: pypdf<5.0.0,>=4.0.1 in /Users/samjosephbritto/LLMs RAG/.venv/lib/python3.9/site-packages (from llama-index-readers-file<0.2.0,>=0.1.4->llama_index==0.10.19) (4.3.1)\n",
      "Requirement already satisfied: striprtf<0.0.27,>=0.0.26 in /Users/samjosephbritto/LLMs RAG/.venv/lib/python3.9/site-packages (from llama-index-readers-file<0.2.0,>=0.1.4->llama_index==0.10.19) (0.0.26)\n",
      "Requirement already satisfied: llama-parse>=0.4.0 in /Users/samjosephbritto/LLMs RAG/.venv/lib/python3.9/site-packages (from llama-index-readers-llama-parse<0.2.0,>=0.1.2->llama_index==0.10.19) (0.4.0)\n",
      "Requirement already satisfied: pydantic>=1.10 in /Users/samjosephbritto/LLMs RAG/.venv/lib/python3.9/site-packages (from llamaindex-py-client<0.2.0,>=0.1.13->llama_index_core==0.10.19) (2.9.2)\n",
      "Requirement already satisfied: anyio in /Users/samjosephbritto/LLMs RAG/.venv/lib/python3.9/site-packages (from httpx->llama_index_core==0.10.19) (4.6.2.post1)\n",
      "Requirement already satisfied: certifi in /Users/samjosephbritto/LLMs RAG/.venv/lib/python3.9/site-packages (from httpx->llama_index_core==0.10.19) (2024.8.30)\n",
      "Requirement already satisfied: httpcore==1.* in /Users/samjosephbritto/LLMs RAG/.venv/lib/python3.9/site-packages (from httpx->llama_index_core==0.10.19) (1.0.7)\n",
      "Requirement already satisfied: idna in /Users/samjosephbritto/LLMs RAG/.venv/lib/python3.9/site-packages (from httpx->llama_index_core==0.10.19) (3.10)\n",
      "Requirement already satisfied: sniffio in /Users/samjosephbritto/LLMs RAG/.venv/lib/python3.9/site-packages (from httpx->llama_index_core==0.10.19) (1.3.1)\n",
      "Requirement already satisfied: h11<0.15,>=0.13 in /Users/samjosephbritto/LLMs RAG/.venv/lib/python3.9/site-packages (from httpcore==1.*->httpx->llama_index_core==0.10.19) (0.14.0)\n",
      "Requirement already satisfied: click in /Users/samjosephbritto/LLMs RAG/.venv/lib/python3.9/site-packages (from nltk<4.0.0,>=3.8.1->llama_index_core==0.10.19) (8.1.7)\n",
      "Requirement already satisfied: joblib in /Users/samjosephbritto/LLMs RAG/.venv/lib/python3.9/site-packages (from nltk<4.0.0,>=3.8.1->llama_index_core==0.10.19) (1.4.2)\n",
      "Requirement already satisfied: regex>=2021.8.3 in /Users/samjosephbritto/LLMs RAG/.venv/lib/python3.9/site-packages (from nltk<4.0.0,>=3.8.1->llama_index_core==0.10.19) (2024.11.6)\n",
      "Requirement already satisfied: distro<2,>=1.7.0 in /Users/samjosephbritto/LLMs RAG/.venv/lib/python3.9/site-packages (from openai>=1.1.0->llama_index_core==0.10.19) (1.9.0)\n",
      "Requirement already satisfied: jiter<1,>=0.4.0 in /Users/samjosephbritto/LLMs RAG/.venv/lib/python3.9/site-packages (from openai>=1.1.0->llama_index_core==0.10.19) (0.7.1)\n",
      "Requirement already satisfied: charset-normalizer<4,>=2 in /Users/samjosephbritto/LLMs RAG/.venv/lib/python3.9/site-packages (from requests>=2.31.0->llama_index_core==0.10.19) (3.4.0)\n",
      "Requirement already satisfied: urllib3<3,>=1.21.1 in /Users/samjosephbritto/LLMs RAG/.venv/lib/python3.9/site-packages (from requests>=2.31.0->llama_index_core==0.10.19) (2.2.3)\n",
      "Requirement already satisfied: scikit-learn in /Users/samjosephbritto/LLMs RAG/.venv/lib/python3.9/site-packages (from sentence-transformers>=2.6.1->llama-index-embeddings-huggingface) (1.5.2)\n",
      "Requirement already satisfied: greenlet!=0.4.17 in /Users/samjosephbritto/LLMs RAG/.venv/lib/python3.9/site-packages (from SQLAlchemy[asyncio]>=1.4.49->llama_index_core==0.10.19) (3.1.1)\n",
      "Requirement already satisfied: tokenizers<0.21,>=0.20 in /Users/samjosephbritto/LLMs RAG/.venv/lib/python3.9/site-packages (from transformers->peft) (0.20.3)\n",
      "Requirement already satisfied: mypy-extensions>=0.3.0 in /Users/samjosephbritto/LLMs RAG/.venv/lib/python3.9/site-packages (from typing-inspect>=0.8.0->llama_index_core==0.10.19) (1.0.0)\n",
      "Requirement already satisfied: humanfriendly>=9.1 in /Users/samjosephbritto/LLMs RAG/.venv/lib/python3.9/site-packages (from coloredlogs->optimum) (10.0)\n",
      "Requirement already satisfied: marshmallow<4.0.0,>=3.18.0 in /Users/samjosephbritto/LLMs RAG/.venv/lib/python3.9/site-packages (from dataclasses-json->llama_index_core==0.10.19) (3.23.1)\n",
      "Requirement already satisfied: pyarrow>=15.0.0 in /Users/samjosephbritto/LLMs RAG/.venv/lib/python3.9/site-packages (from datasets->optimum) (18.1.0)\n",
      "Requirement already satisfied: dill<0.3.9,>=0.3.0 in /Users/samjosephbritto/LLMs RAG/.venv/lib/python3.9/site-packages (from datasets->optimum) (0.3.8)\n",
      "Requirement already satisfied: xxhash in /Users/samjosephbritto/LLMs RAG/.venv/lib/python3.9/site-packages (from datasets->optimum) (3.5.0)\n",
      "Requirement already satisfied: multiprocess<0.70.17 in /Users/samjosephbritto/LLMs RAG/.venv/lib/python3.9/site-packages (from datasets->optimum) (0.70.16)\n",
      "Requirement already satisfied: MarkupSafe>=2.0 in /Users/samjosephbritto/LLMs RAG/.venv/lib/python3.9/site-packages (from jinja2->torch) (3.0.2)\n",
      "Requirement already satisfied: python-dateutil>=2.8.2 in /Users/samjosephbritto/LLMs RAG/.venv/lib/python3.9/site-packages (from pandas->llama_index_core==0.10.19) (2.9.0.post0)\n",
      "Requirement already satisfied: pytz>=2020.1 in /Users/samjosephbritto/LLMs RAG/.venv/lib/python3.9/site-packages (from pandas->llama_index_core==0.10.19) (2024.2)\n",
      "Requirement already satisfied: tzdata>=2022.7 in /Users/samjosephbritto/LLMs RAG/.venv/lib/python3.9/site-packages (from pandas->llama_index_core==0.10.19) (2024.2)\n",
      "Requirement already satisfied: exceptiongroup>=1.0.2 in /Users/samjosephbritto/LLMs RAG/.venv/lib/python3.9/site-packages (from anyio->httpx->llama_index_core==0.10.19) (1.2.2)\n",
      "Requirement already satisfied: soupsieve>1.2 in /Users/samjosephbritto/LLMs RAG/.venv/lib/python3.9/site-packages (from beautifulsoup4<5.0.0,>=4.12.3->llama-index-readers-file<0.2.0,>=0.1.4->llama_index==0.10.19) (2.6)\n",
      "Requirement already satisfied: annotated-types>=0.6.0 in /Users/samjosephbritto/LLMs RAG/.venv/lib/python3.9/site-packages (from pydantic>=1.10->llamaindex-py-client<0.2.0,>=0.1.13->llama_index_core==0.10.19) (0.7.0)\n",
      "Requirement already satisfied: pydantic-core==2.23.4 in /Users/samjosephbritto/LLMs RAG/.venv/lib/python3.9/site-packages (from pydantic>=1.10->llamaindex-py-client<0.2.0,>=0.1.13->llama_index_core==0.10.19) (2.23.4)\n",
      "Requirement already satisfied: six>=1.5 in /Users/samjosephbritto/LLMs RAG/.venv/lib/python3.9/site-packages (from python-dateutil>=2.8.2->pandas->llama_index_core==0.10.19) (1.16.0)\n",
      "Requirement already satisfied: threadpoolctl>=3.1.0 in /Users/samjosephbritto/LLMs RAG/.venv/lib/python3.9/site-packages (from scikit-learn->sentence-transformers>=2.6.1->llama-index-embeddings-huggingface) (3.5.0)\n"
     ]
    }
   ],
   "source": [
    "!pip install llama_index==0.10.19 llama_index_core==0.10.19 torch llama-index-embeddings-huggingface peft optimum bitsandbytes\n",
    "\n"
   ]
  },
  {
   "cell_type": "code",
   "execution_count": 1,
   "metadata": {},
   "outputs": [
    {
     "name": "stderr",
     "output_type": "stream",
     "text": [
      "/Users/samjosephbritto/LLMs RAG/.venv/lib/python3.9/site-packages/urllib3/__init__.py:35: NotOpenSSLWarning: urllib3 v2 only supports OpenSSL 1.1.1+, currently the 'ssl' module is compiled with 'LibreSSL 2.8.3'. See: https://github.com/urllib3/urllib3/issues/3020\n",
      "  warnings.warn(\n",
      "/Users/samjosephbritto/LLMs RAG/.venv/lib/python3.9/site-packages/tqdm/auto.py:21: TqdmWarning: IProgress not found. Please update jupyter and ipywidgets. See https://ipywidgets.readthedocs.io/en/stable/user_install.html\n",
      "  from .autonotebook import tqdm as notebook_tqdm\n"
     ]
    }
   ],
   "source": [
    "from llama_index.embeddings.huggingface import HuggingFaceEmbedding\n",
    "from llama_index.core import Settings,SimpleDirectoryReader,VectorStoreIndex\n",
    "from llama_index.core.retrievers import VectorIndexRetriever\n",
    "from llama_index.core.query_engine import RetrieverQueryEngine\n",
    "from llama_index.core.postprocessor import SimilarityPostprocessor\n",
    "from transformers import AutoModelForCausalLM,AutoTokenizer"
   ]
  },
  {
   "cell_type": "code",
   "execution_count": 2,
   "metadata": {},
   "outputs": [
    {
     "name": "stdout",
     "output_type": "stream",
     "text": [
      "LLM is explicitly disabled. Using MockLLM.\n"
     ]
    }
   ],
   "source": [
    "#to globally set whatever resources we are going to use\n",
    "Settings.embed_model=HuggingFaceEmbedding(model_name=\"BAAI/bge-small-en-v1.5\")\n",
    "Settings.llm=None\n",
    "Settings.chunk_size=256   #here we are assuning 5000 chunck we are doing 5000/256=~20 so we diving documents into 20 chunks\n",
    "Settings.chunk_overlap=15"
   ]
  },
  {
   "cell_type": "code",
   "execution_count": 4,
   "metadata": {},
   "outputs": [
    {
     "name": "stdout",
     "output_type": "stream",
     "text": [
      "Current Working Directory: /Users/samjosephbritto/LLMs RAG/content\n"
     ]
    }
   ],
   "source": [
    "import os\n",
    "print(\"Current Working Directory:\", os.getcwd())\n"
   ]
  },
  {
   "cell_type": "code",
   "execution_count": 8,
   "metadata": {},
   "outputs": [
    {
     "name": "stdout",
     "output_type": "stream",
     "text": [
      "Collecting nbconvert\n",
      "  Downloading nbconvert-7.16.4-py3-none-any.whl.metadata (8.5 kB)\n",
      "Requirement already satisfied: beautifulsoup4 in /Users/samjosephbritto/LLMs RAG/.venv/lib/python3.9/site-packages (from nbconvert) (4.12.3)\n",
      "Collecting bleach!=5.0.0 (from nbconvert)\n",
      "  Downloading bleach-6.2.0-py3-none-any.whl.metadata (30 kB)\n",
      "Collecting defusedxml (from nbconvert)\n",
      "  Downloading defusedxml-0.7.1-py2.py3-none-any.whl.metadata (32 kB)\n",
      "Requirement already satisfied: importlib-metadata>=3.6 in /Users/samjosephbritto/LLMs RAG/.venv/lib/python3.9/site-packages (from nbconvert) (8.5.0)\n",
      "Requirement already satisfied: jinja2>=3.0 in /Users/samjosephbritto/LLMs RAG/.venv/lib/python3.9/site-packages (from nbconvert) (3.1.4)\n",
      "Requirement already satisfied: jupyter-core>=4.7 in /Users/samjosephbritto/LLMs RAG/.venv/lib/python3.9/site-packages (from nbconvert) (5.7.2)\n",
      "Collecting jupyterlab-pygments (from nbconvert)\n",
      "  Downloading jupyterlab_pygments-0.3.0-py3-none-any.whl.metadata (4.4 kB)\n",
      "Requirement already satisfied: markupsafe>=2.0 in /Users/samjosephbritto/LLMs RAG/.venv/lib/python3.9/site-packages (from nbconvert) (3.0.2)\n",
      "Collecting mistune<4,>=2.0.3 (from nbconvert)\n",
      "  Downloading mistune-3.0.2-py3-none-any.whl.metadata (1.7 kB)\n",
      "Collecting nbclient>=0.5.0 (from nbconvert)\n",
      "  Downloading nbclient-0.10.0-py3-none-any.whl.metadata (7.8 kB)\n",
      "Collecting nbformat>=5.7 (from nbconvert)\n",
      "  Downloading nbformat-5.10.4-py3-none-any.whl.metadata (3.6 kB)\n",
      "Requirement already satisfied: packaging in /Users/samjosephbritto/LLMs RAG/.venv/lib/python3.9/site-packages (from nbconvert) (24.2)\n",
      "Collecting pandocfilters>=1.4.1 (from nbconvert)\n",
      "  Downloading pandocfilters-1.5.1-py2.py3-none-any.whl.metadata (9.0 kB)\n",
      "Requirement already satisfied: pygments>=2.4.1 in /Users/samjosephbritto/LLMs RAG/.venv/lib/python3.9/site-packages (from nbconvert) (2.18.0)\n",
      "Collecting tinycss2 (from nbconvert)\n",
      "  Downloading tinycss2-1.4.0-py3-none-any.whl.metadata (3.0 kB)\n",
      "Requirement already satisfied: traitlets>=5.1 in /Users/samjosephbritto/LLMs RAG/.venv/lib/python3.9/site-packages (from nbconvert) (5.14.3)\n",
      "Collecting webencodings (from bleach!=5.0.0->nbconvert)\n",
      "  Downloading webencodings-0.5.1-py2.py3-none-any.whl.metadata (2.1 kB)\n",
      "Requirement already satisfied: zipp>=3.20 in /Users/samjosephbritto/LLMs RAG/.venv/lib/python3.9/site-packages (from importlib-metadata>=3.6->nbconvert) (3.21.0)\n",
      "Requirement already satisfied: platformdirs>=2.5 in /Users/samjosephbritto/LLMs RAG/.venv/lib/python3.9/site-packages (from jupyter-core>=4.7->nbconvert) (4.3.6)\n",
      "Requirement already satisfied: jupyter-client>=6.1.12 in /Users/samjosephbritto/LLMs RAG/.venv/lib/python3.9/site-packages (from nbclient>=0.5.0->nbconvert) (8.6.3)\n",
      "Collecting fastjsonschema>=2.15 (from nbformat>=5.7->nbconvert)\n",
      "  Downloading fastjsonschema-2.20.0-py3-none-any.whl.metadata (2.1 kB)\n",
      "Collecting jsonschema>=2.6 (from nbformat>=5.7->nbconvert)\n",
      "  Downloading jsonschema-4.23.0-py3-none-any.whl.metadata (7.9 kB)\n",
      "Requirement already satisfied: soupsieve>1.2 in /Users/samjosephbritto/LLMs RAG/.venv/lib/python3.9/site-packages (from beautifulsoup4->nbconvert) (2.6)\n",
      "Requirement already satisfied: attrs>=22.2.0 in /Users/samjosephbritto/LLMs RAG/.venv/lib/python3.9/site-packages (from jsonschema>=2.6->nbformat>=5.7->nbconvert) (24.2.0)\n",
      "Collecting jsonschema-specifications>=2023.03.6 (from jsonschema>=2.6->nbformat>=5.7->nbconvert)\n",
      "  Downloading jsonschema_specifications-2024.10.1-py3-none-any.whl.metadata (3.0 kB)\n",
      "Collecting referencing>=0.28.4 (from jsonschema>=2.6->nbformat>=5.7->nbconvert)\n",
      "  Downloading referencing-0.35.1-py3-none-any.whl.metadata (2.8 kB)\n",
      "Collecting rpds-py>=0.7.1 (from jsonschema>=2.6->nbformat>=5.7->nbconvert)\n",
      "  Downloading rpds_py-0.21.0-cp39-cp39-macosx_11_0_arm64.whl.metadata (4.2 kB)\n",
      "Requirement already satisfied: python-dateutil>=2.8.2 in /Users/samjosephbritto/LLMs RAG/.venv/lib/python3.9/site-packages (from jupyter-client>=6.1.12->nbclient>=0.5.0->nbconvert) (2.9.0.post0)\n",
      "Requirement already satisfied: pyzmq>=23.0 in /Users/samjosephbritto/LLMs RAG/.venv/lib/python3.9/site-packages (from jupyter-client>=6.1.12->nbclient>=0.5.0->nbconvert) (26.2.0)\n",
      "Requirement already satisfied: tornado>=6.2 in /Users/samjosephbritto/LLMs RAG/.venv/lib/python3.9/site-packages (from jupyter-client>=6.1.12->nbclient>=0.5.0->nbconvert) (6.4.2)\n",
      "Requirement already satisfied: six>=1.5 in /Users/samjosephbritto/LLMs RAG/.venv/lib/python3.9/site-packages (from python-dateutil>=2.8.2->jupyter-client>=6.1.12->nbclient>=0.5.0->nbconvert) (1.16.0)\n",
      "Downloading nbconvert-7.16.4-py3-none-any.whl (257 kB)\n",
      "Downloading bleach-6.2.0-py3-none-any.whl (163 kB)\n",
      "Downloading mistune-3.0.2-py3-none-any.whl (47 kB)\n",
      "Downloading nbclient-0.10.0-py3-none-any.whl (25 kB)\n",
      "Downloading nbformat-5.10.4-py3-none-any.whl (78 kB)\n",
      "Downloading pandocfilters-1.5.1-py2.py3-none-any.whl (8.7 kB)\n",
      "Downloading defusedxml-0.7.1-py2.py3-none-any.whl (25 kB)\n",
      "Downloading jupyterlab_pygments-0.3.0-py3-none-any.whl (15 kB)\n",
      "Downloading tinycss2-1.4.0-py3-none-any.whl (26 kB)\n",
      "Downloading fastjsonschema-2.20.0-py3-none-any.whl (23 kB)\n",
      "Downloading jsonschema-4.23.0-py3-none-any.whl (88 kB)\n",
      "Downloading webencodings-0.5.1-py2.py3-none-any.whl (11 kB)\n",
      "Downloading jsonschema_specifications-2024.10.1-py3-none-any.whl (18 kB)\n",
      "Downloading referencing-0.35.1-py3-none-any.whl (26 kB)\n",
      "Downloading rpds_py-0.21.0-cp39-cp39-macosx_11_0_arm64.whl (318 kB)\n",
      "Installing collected packages: webencodings, fastjsonschema, tinycss2, rpds-py, pandocfilters, mistune, jupyterlab-pygments, defusedxml, bleach, referencing, jsonschema-specifications, jsonschema, nbformat, nbclient, nbconvert\n",
      "Successfully installed bleach-6.2.0 defusedxml-0.7.1 fastjsonschema-2.20.0 jsonschema-4.23.0 jsonschema-specifications-2024.10.1 jupyterlab-pygments-0.3.0 mistune-3.0.2 nbclient-0.10.0 nbconvert-7.16.4 nbformat-5.10.4 pandocfilters-1.5.1 referencing-0.35.1 rpds-py-0.21.0 tinycss2-1.4.0 webencodings-0.5.1\n",
      "Note: you may need to restart the kernel to use updated packages.\n"
     ]
    }
   ],
   "source": [
    "pip install nbconvert"
   ]
  },
  {
   "cell_type": "code",
   "execution_count": 9,
   "metadata": {},
   "outputs": [
    {
     "name": "stdout",
     "output_type": "stream",
     "text": [
      "51\n",
      "51\n"
     ]
    }
   ],
   "source": [
    "documents=SimpleDirectoryReader(\"/Users/samjosephbritto/LLMs RAG/content\").load_data()\n",
    "print(len(documents))\n",
    "for doc in documents:\n",
    "    if len(doc.text)==0:\n",
    "        documents.remove(doc)\n",
    "        continue\n",
    "print(len(documents))    "
   ]
  },
  {
   "cell_type": "code",
   "execution_count": 16,
   "metadata": {},
   "outputs": [],
   "source": [
    "#creating a vector store\n",
    "index=VectorStoreIndex.from_documents(documents)\n",
    "\n",
    "#set number of docs to retrieve\n",
    "\n",
    "top_k=2\n",
    "#let configure retrieve\n",
    "\n",
    "retriever=VectorIndexRetriever(\n",
    "    index=index,\n",
    "    similarity_top_k=top_k,\n",
    ")"
   ]
  },
  {
   "cell_type": "code",
   "execution_count": 17,
   "metadata": {},
   "outputs": [],
   "source": [
    "#assembling the query engine\n",
    "\n",
    "query_engine=RetrieverQueryEngine(\n",
    "    retriever=retriever,\n",
    "    node_postprocessors=[SimilarityPostprocessor(similarity_cutoff=0.5)]#50% similar to it will retrived by query engine\n",
    ")"
   ]
  },
  {
   "cell_type": "code",
   "execution_count": 19,
   "metadata": {},
   "outputs": [
    {
     "name": "stdout",
     "output_type": "stream",
     "text": [
      "Context information is below.\n",
      "---------------------\n",
      "page_label: 29\n",
      "file_path: /Users/samjosephbritto/LLMs RAG/content/2307.06435v10.pdf\n",
      "\n",
      "LAMBADA [335], LCSTS [336], AdGen [337], E2E [338], CHID [339], CHID-\n",
      "FC [312]\n",
      "Physical Knowledge and\n",
      "World UnderstandingPIQA [340], TriviaQA [341], ARC [342], ARC-Easy [342], ARC-Challenge [342], PROST [343], Open-\n",
      "BookQA [344], WebNLG [345], DogWhistle Insider & Outsider [346]\n",
      "Contextual Language\n",
      "UnderstandingRACE [347], RACE-Middle [347], RACE-High [347], QuAC [348], StrategyQA [349], Quiz Bowl [350],\n",
      "cMedQA [351],cMedQA2 [352], MATINF-QA [353]\n",
      "Commonsense Reasoning WinoGrande [354], HellaSwag [355], COPA [356], WSC [357], CSQA [358], SIQA [359], C3[360],\n",
      "CLUEWSC2020 [311], CLUEWSC [311], CLUEWSC-FC [312],\n",
      "\n",
      "page_label: 44\n",
      "file_path: /Users/samjosephbritto/LLMs RAG/content/2307.06435v10.pdf\n",
      "\n",
      "29\n",
      "[362] P. Rajpurkar, J. Zhang, K. Lopyrev, P. Liang, Squad: 100,000 +questions\n",
      "for machine comprehension of text, arXiv preprint arXiv:1606.05250\n",
      "(2016). 29, 31\n",
      "[363] C. Clark, K. Lee, M.-W. Chang, T. Kwiatkowski, M. Collins,\n",
      "K. Toutanova, Boolq: Exploring the surprising di fficulty of natural\n",
      "yes/no questions, arXiv preprint arXiv:1905.10044 (2019). 29, 31\n",
      "[364] P. Rajpurkar, R. Jia, P. Liang, Know what you don’t know: Unanswer-\n",
      "able questions for squad, arXiv preprint arXiv:1806.03822 (2018). 29,\n",
      "31\n",
      "[365] D. Dua, Y .\n",
      "---------------------\n",
      "Given the context information and not prior knowledge, answer the query.\n",
      "Query: what's all this text about? \n",
      "Answer: \n",
      "Context: \n",
      "LAMBADA [335], LCSTS [336], AdGen [337], E2E [338], CHID [339], CHID-\n",
      "FC [312]\n",
      "Physical Knowledge and\n",
      "World UnderstandingPIQA [340], TriviaQA [341], ARC [342], ARC-Easy [342], ARC-Challenge [342], PROST [343], Open-\n",
      "BookQA [344], WebNLG [345], DogWhistle Insider & Outsider [346]\n",
      "Contextual Language\n",
      "UnderstandingRACE [347], RACE-Middle [347], RACE-High [347], QuAC [348], StrategyQA [349], Quiz Bowl [350],\n",
      "cMedQA [351],cMedQA2 [352], MATINF-QA [353]\n",
      "Commonsense Reasoning WinoGrande [354], HellaSwag [355], COPA [356], WSC [357], CSQA [358], SIQA [359], C3[360],\n",
      "CLUEWSC2020 [311], CLUEWSC [311], CLUEWSC-FC [312],\n",
      "\n",
      "29\n",
      "[362] P. Rajpurkar, J. Zhang, K. Lopyrev, P. Liang, Squad: 100,000 +questions\n",
      "for machine comprehension of text, arXiv preprint arXiv:1606.05250\n",
      "(2016). 29, 31\n",
      "[363] C. Clark, K. Lee, M.-W. Chang, T. Kwiatkowski, M. Collins,\n",
      "K. Toutanova, Boolq: Exploring the surprising di fficulty of natural\n",
      "yes/no questions, arXiv preprint arXiv:1905.10044 (2019). 29, 31\n",
      "[364] P. Rajpurkar, R. Jia, P. Liang, Know what you don’t know: Unanswer-\n",
      "able questions for squad, arXiv preprint arXiv:1806.03822 (2018). 29,\n",
      "31\n",
      "[365] D. Dua, Y .\n",
      "\n",
      "\n"
     ]
    }
   ],
   "source": [
    "query=\"what's all this text about? \"\n",
    "response=query_engine.query(query)\n",
    "print(response)\n",
    "\n",
    "context=\"Context: \\n\"\n",
    "\n",
    "for i in range(top_k):\n",
    "    context=context+ response.source_nodes[i].text+\"\\n\\n\"\n",
    "print(context)    "
   ]
  },
  {
   "cell_type": "code",
   "execution_count": 23,
   "metadata": {},
   "outputs": [],
   "source": [
    "#load model\n",
    "\n",
    "model_name=\"Qwen/Qwen2.5-1.5B-Instruct\"\n",
    "model=AutoModelForCausalLM.from_pretrained(model_name,\n",
    "                           trust_remote_code=False,\n",
    "                           revision=\"main\",\n",
    "                           #device_map='cuda:0'  who are having gpu can use\n",
    "                           )\n",
    "#load tokenizer\n",
    "tokenizer=AutoTokenizer.from_pretrained(model_name,use_fast=True)"
   ]
  },
  {
   "cell_type": "code",
   "execution_count": 25,
   "metadata": {},
   "outputs": [],
   "source": [
    "prompt_template_with_context=lambda context,query : f\"\"\"I am an AI assiantant tasked with answering question based on the provided PDF content.\n",
    "please analyze the following except from PDF and answer the question\n",
    "PDF content:\n",
    "{context}\n",
    "\n",
    "Question:{query}\n",
    "\n",
    "\n",
    "Instructions:\n",
    "\n",
    "-Answer only based on the information provided in the PDF content above.\n",
    "-If the answer cannot be found in the provided content,say I cannot find the answer to the question and provide a PDF documnets\n",
    "-Be concise and specifice\n",
    "-Include relevant quote or references from the PDF when applicable\n",
    "Answer:\"\"\""
   ]
  },
  {
   "cell_type": "code",
   "execution_count": 30,
   "metadata": {},
   "outputs": [
    {
     "name": "stdout",
     "output_type": "stream",
     "text": [
      "I am an AI assiantant tasked with answering question based on the provided PDF content.\n",
      "please analyze the following except from PDF and answer the question\n",
      "PDF content:\n",
      "Context: \n",
      "LAMBADA [335], LCSTS [336], AdGen [337], E2E [338], CHID [339], CHID-\n",
      "FC [312]\n",
      "Physical Knowledge and\n",
      "World UnderstandingPIQA [340], TriviaQA [341], ARC [342], ARC-Easy [342], ARC-Challenge [342], PROST [343], Open-\n",
      "BookQA [344], WebNLG [345], DogWhistle Insider & Outsider [346]\n",
      "Contextual Language\n",
      "UnderstandingRACE [347], RACE-Middle [347], RACE-High [347], QuAC [348], StrategyQA [349], Quiz Bowl [350],\n",
      "cMedQA [351],cMedQA2 [352], MATINF-QA [353]\n",
      "Commonsense Reasoning WinoGrande [354], HellaSwag [355], COPA [356], WSC [357], CSQA [358], SIQA [359], C3[360],\n",
      "CLUEWSC2020 [311], CLUEWSC [311], CLUEWSC-FC [312],\n",
      "\n",
      "29\n",
      "[362] P. Rajpurkar, J. Zhang, K. Lopyrev, P. Liang, Squad: 100,000 +questions\n",
      "for machine comprehension of text, arXiv preprint arXiv:1606.05250\n",
      "(2016). 29, 31\n",
      "[363] C. Clark, K. Lee, M.-W. Chang, T. Kwiatkowski, M. Collins,\n",
      "K. Toutanova, Boolq: Exploring the surprising di fficulty of natural\n",
      "yes/no questions, arXiv preprint arXiv:1905.10044 (2019). 29, 31\n",
      "[364] P. Rajpurkar, R. Jia, P. Liang, Know what you don’t know: Unanswer-\n",
      "able questions for squad, arXiv preprint arXiv:1806.03822 (2018). 29,\n",
      "31\n",
      "[365] D. Dua, Y .\n",
      "\n",
      "\n",
      "\n",
      "Question:what's all this text about? \n",
      "\n",
      "\n",
      "Instructions:\n",
      "\n",
      "-Answer only based on the information provided in the PDF content above.\n",
      "-If the answer cannot be found in the provided content,say I cannot find the answer to the question and provide a PDF documnets\n",
      "-Be concise and specifice\n",
      "-Include relevant quote or references from the PDF when applicable\n",
      "Answer: This text is a list of various question types that are being used in language understanding tasks. The list includes different question formats such as multiple choice, short-answer, fill-in-the-blank, and more complex ones like Yes/No questions. Each task is associated with a specific acronym, which helps researchers identify and compare their methods effectively. The context given provides examples of these tasks and mentions some of them by name, such as Squad, Know What You Don't Know, BoolQ, and others. These include datasets like SQuAD, BoolQ, and other benchmarks for evaluating models' ability to understand questions across different domains and contexts. \n",
      "\n",
      "The text also highlights challenges related to generating unanswerable questions for datasets like Squad, indicating ongoing efforts to improve the quality and diversity of test data. It underscores the importance of having diverse and challenging questions to evaluate model performance accurately. \n",
      "\n",
      "Therefore, the passage discusses various types of questions commonly encountered in natural language processing research and development, focusing on how to create effective and varied testing scenarios for NLP models. It emphasizes the need for comprehensive datasets and methodologies to ensure that models can handle a wide range of linguistic complexities and ambiguities.\n",
      "\n",
      "I cannot find the answer to the question within the provided content. Please see the documents referenced at the end of the document if needed. \n",
      "\n",
      "References:\n",
      "[335]: LAMBADA [335], LCSTS\n"
     ]
    }
   ],
   "source": [
    "comment=\"what is the long context-finetuning?\"\n",
    "prompt=prompt_template_with_context(context,query)\n",
    "\n",
    "inputs=tokenizer(prompt,return_tensors='pt')\n",
    "outputs=model.generate(input_ids=inputs[\"input_ids\"],max_new_tokens=280)\n",
    "print(tokenizer.batch_decode(outputs)[0])"
   ]
  }
 ],
 "metadata": {
  "kernelspec": {
   "display_name": ".venv",
   "language": "python",
   "name": "python3"
  },
  "language_info": {
   "codemirror_mode": {
    "name": "ipython",
    "version": 3
   },
   "file_extension": ".py",
   "mimetype": "text/x-python",
   "name": "python",
   "nbconvert_exporter": "python",
   "pygments_lexer": "ipython3",
   "version": "3.9.6"
  }
 },
 "nbformat": 4,
 "nbformat_minor": 2
}
